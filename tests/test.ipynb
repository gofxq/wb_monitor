{
 "cells": [
  {
   "cell_type": "code",
   "execution_count": 1,
   "metadata": {},
   "outputs": [],
   "source": []
  },
  {
   "cell_type": "code",
   "execution_count": 5,
   "metadata": {},
   "outputs": [
    {
     "data": {
      "text/plain": [
       "{'code': 0, 'msg': ''}"
      ]
     },
     "execution_count": 5,
     "metadata": {},
     "output_type": "execute_result"
    }
   ],
   "source": [
    "import os\n",
    "\n",
    "# 改变当前工作目录\n",
    "path = '/home/u/dev/wb_monitor'\n",
    "os.chdir(path)\n",
    "\n",
    "\n",
    "import requests\n",
    "import json\n",
    "import os\n",
    "import time\n",
    "import hashlib\n",
    "import hmac\n",
    "import base64\n",
    "import yaml\n",
    "from bs4 import BeautifulSoup\n",
    "\n",
    "from app.plog.logger import setup_logger\n",
    "from app.utils import lark, lark_boot_webhook_msg\n",
    "\n",
    "# 读取配置文件\n",
    "with open(\"config.yml\", \"r\", encoding=\"utf-8\") as f:\n",
    "    config = yaml.safe_load(f)\n",
    "\n",
    "USER_IDS = config.get(\"user_ids\", [])\n",
    "LARK_WEBHOOK_URL = config.get(\"lark\", {}).get(\"webhook_url\", \"\")\n",
    "LARK_WEBHOOK_SECRET = config.get(\"lark\", {}).get(\"webhook_secret\", \"\")\n",
    "SENT_IDS_FILE = config.get(\"sent_ids_file\", \"sent_ids.json\")\n",
    "APP_ID = config.get(\"lark\", {}).get(\"app_id\", \"\")\n",
    "APP_SECRET = config.get(\"lark\", {}).get(\"app_secret\", \"\")\n",
    "\n",
    "lark_bot = lark_boot_webhook_msg.LarkBot(LARK_WEBHOOK_URL, LARK_WEBHOOK_SECRET)\n",
    "\n"
   ]
  },
  {
   "cell_type": "code",
   "execution_count": 6,
   "metadata": {},
   "outputs": [
    {
     "data": {
      "text/plain": [
       "{'code': 0, 'msg': ''}"
      ]
     },
     "execution_count": 6,
     "metadata": {},
     "output_type": "execute_result"
    }
   ],
   "source": [
    "lark_bot.send_msg('tests','好美<br />包<span class=\\\"url-icon\\\"><img alt=[赞] src=\\\"https://h5.sinaimg.cn/m/emoticon/icon/others/h_zan-44ddc70637.png\\\" style=\\\"width:1em; height:1em;\\\" /></span> ')"
   ]
  },
  {
   "cell_type": "code",
   "execution_count": null,
   "metadata": {},
   "outputs": [],
   "source": [
    "*/10 * * * * cd /home/u/dev/wb_monitor && /home/u/miniconda3/bin/python -m app.wb_monitor"
   ]
  }
 ],
 "metadata": {
  "kernelspec": {
   "display_name": "base",
   "language": "python",
   "name": "python3"
  },
  "language_info": {
   "codemirror_mode": {
    "name": "ipython",
    "version": 3
   },
   "file_extension": ".py",
   "mimetype": "text/x-python",
   "name": "python",
   "nbconvert_exporter": "python",
   "pygments_lexer": "ipython3",
   "version": "3.12.2"
  }
 },
 "nbformat": 4,
 "nbformat_minor": 2
}
